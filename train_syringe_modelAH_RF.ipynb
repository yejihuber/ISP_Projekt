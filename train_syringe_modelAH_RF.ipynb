{
 "cells": [
  {
   "cell_type": "markdown",
   "id": "453368d1",
   "metadata": {},
   "source": [
    "ConfusionMatrix visualisieren. Balanced und unbalanced variablen definieren um confusionmatrix zu visualisieren. "
   ]
  },
  {
   "cell_type": "code",
   "execution_count": null,
   "id": "b656b17c",
   "metadata": {},
   "outputs": [],
   "source": [
    "import os\n",
    "import glob\n",
    "import cv2 as cv\n",
    "import numpy as np\n",
    "from sklearn.ensemble import RandomForestClassifier\n",
    "from sklearn.model_selection import train_test_split\n",
    "from sklearn.metrics import classification_report\n",
    "import joblib\n"
   ]
  },
  {
   "cell_type": "code",
   "execution_count": 7,
   "id": "f72eebff",
   "metadata": {},
   "outputs": [],
   "source": [
    "def extract_features(image_path):\n",
    "    img = cv.imread(image_path, cv.IMREAD_GRAYSCALE)\n",
    "    if img is None:\n",
    "        print(f\"⚠️ Bild konnte nicht geladen werden: {image_path}\")\n",
    "        return None\n",
    "    img = cv.resize(img, (100, 30))\n",
    "    blur = cv.GaussianBlur(img, (5, 5), 0)\n",
    "    edges = cv.Canny(blur, 30, 100)\n",
    "    hist = cv.calcHist([edges], [0], None, [16], [0, 256])\n",
    "    return hist.flatten()\n"
   ]
  },
  {
   "cell_type": "code",
   "execution_count": 8,
   "id": "f7584801",
   "metadata": {},
   "outputs": [
    {
     "name": "stdout",
     "output_type": "stream",
     "text": [
      "4305 Bilder verarbeitet. 789 OK / 3516 DEFECT\n"
     ]
    }
   ],
   "source": [
    "features = []\n",
    "labels = []\n",
    "\n",
    "base_path = \"dataset\"\n",
    "ok_folder = \"ok\"\n",
    "defect_folders = [\"1_leer\", \"5_ObjektInSpritze\", \"6_kleineBlase\", \"7_grosseBlase\", \"8_Stoerung\"]\n",
    "\n",
    "# OK\n",
    "ok_path = os.path.join(base_path, ok_folder)\n",
    "for filepath in glob.glob(os.path.join(ok_path, \"*.jpg\")):\n",
    "    f = extract_features(filepath)\n",
    "    if f is not None:\n",
    "        features.append(f)\n",
    "        labels.append(\"ok\")\n",
    "\n",
    "# DEFECT\n",
    "for folder in defect_folders:\n",
    "    folder_path = os.path.join(base_path, folder)\n",
    "    for filepath in glob.glob(os.path.join(folder_path, \"*.jpg\")):\n",
    "        f = extract_features(filepath)\n",
    "        if f is not None:\n",
    "            features.append(f)\n",
    "            labels.append(\"defect\")\n",
    "\n",
    "print(f\"{len(features)} Bilder verarbeitet. {labels.count('ok')} OK / {labels.count('defect')} DEFECT\")\n"
   ]
  },
  {
   "cell_type": "markdown",
   "id": "1bd65bc9",
   "metadata": {},
   "source": [
    "## 🧪 Modellvergleich: Standard vs. gewichtetes Klassifikationsmodell\n",
    "\n",
    "Um die Klassifikationsleistung zu verbessern, haben wir verschiedene Modellkonfigurationen getestet.\n",
    "\n",
    "### 🔹 1. Standardmodell ohne Gewichtung\n",
    "\n",
    "```python\n",
    "clf = RandomForestClassifier(n_estimators=100, random_state=42)\n"
   ]
  },
  {
   "cell_type": "markdown",
   "id": "8cfa04a4",
   "metadata": {},
   "source": [
    "This model was trained without considering the class imbalance. As a result:\n",
    "\n",
    "- Very high recall for the `defect` class: 0.99\n",
    "- Very low recall for the `ok` class: 0.14\n",
    "- F1-score for `ok` was only 0.24\n",
    "\n",
    "**Conclusion:** The model favors the dominant class `defect` and neglects the weaker class `ok`.\n"
   ]
  },
  {
   "cell_type": "code",
   "execution_count": null,
   "id": "ef5174fc",
   "metadata": {},
   "outputs": [
    {
     "name": "stdout",
     "output_type": "stream",
     "text": [
      "              precision    recall  f1-score   support\n",
      "\n",
      "      defect       0.82      0.99      0.90       692\n",
      "          ok       0.71      0.14      0.24       169\n",
      "\n",
      "    accuracy                           0.82       861\n",
      "   macro avg       0.77      0.56      0.57       861\n",
      "weighted avg       0.80      0.82      0.77       861\n",
      "\n"
     ]
    }
   ],
   "source": [
    "# X_train, X_test, y_train, y_test = train_test_split(features, labels, test_size=0.2, random_state=42)\n",
    "\n",
    "# clf = RandomForestClassifier(n_estimators=100, random_state=42)\n",
    "# clf.fit(X_train, y_train)\n",
    "\n",
    "# y_pred = clf.predict(X_test)\n",
    "# print(classification_report(y_test, y_pred))"
   ]
  },
  {
   "cell_type": "markdown",
   "id": "3c6cdd98",
   "metadata": {},
   "source": [
    "Afterwards, we trained the model using `class_weight=\"balanced\"` to compensate for the class imbalance. This improved the model's ability to recognize the minority class:\n",
    "\n",
    "- Recall for the `defect` class decreased to 0.63\n",
    "- Recall for the `ok` class increased significantly to 0.72\n",
    "- F1-score for `ok` improved to 0.45\n",
    "\n",
    "**Conclusion:** This configuration achieves a more balanced performance. It is better suited for practical quality control, where both false negatives and false positives need to be minimized.\n"
   ]
  },
  {
   "cell_type": "code",
   "execution_count": 12,
   "id": "2ab82e73",
   "metadata": {},
   "outputs": [
    {
     "name": "stdout",
     "output_type": "stream",
     "text": [
      "              precision    recall  f1-score   support\n",
      "\n",
      "      defect       0.90      0.63      0.74       692\n",
      "          ok       0.32      0.72      0.45       169\n",
      "\n",
      "    accuracy                           0.65       861\n",
      "   macro avg       0.61      0.68      0.59       861\n",
      "weighted avg       0.79      0.65      0.68       861\n",
      "\n"
     ]
    }
   ],
   "source": [
    "X_train, X_test, y_train, y_test = train_test_split(features, labels, test_size=0.2, random_state=42)\n",
    "\n",
    "clf = RandomForestClassifier(n_estimators=100, class_weight=\"balanced\", random_state=42)\n",
    "clf.fit(X_train, y_train)\n",
    "\n",
    "y_pred = clf.predict(X_test)\n",
    "print(classification_report(y_test, y_pred))\n"
   ]
  },
  {
   "cell_type": "markdown",
   "id": "9719a358",
   "metadata": {},
   "source": [
    "Visualisierung"
   ]
  },
  {
   "cell_type": "code",
   "execution_count": 10,
   "id": "f0d9b951",
   "metadata": {},
   "outputs": [
    {
     "name": "stdout",
     "output_type": "stream",
     "text": [
      "✅ Modell gespeichert unter 'syringe_model.pkl'\n"
     ]
    }
   ],
   "source": [
    "joblib.dump(clf, \"syringe_model.pkl\")\n",
    "print(\"✅ Modell gespeichert unter 'syringe_model.pkl'\")\n"
   ]
  }
 ],
 "metadata": {
  "kernelspec": {
   "display_name": "base",
   "language": "python",
   "name": "python3"
  },
  "language_info": {
   "codemirror_mode": {
    "name": "ipython",
    "version": 3
   },
   "file_extension": ".py",
   "mimetype": "text/x-python",
   "name": "python",
   "nbconvert_exporter": "python",
   "pygments_lexer": "ipython3",
   "version": "3.12.7"
  }
 },
 "nbformat": 4,
 "nbformat_minor": 5
}
